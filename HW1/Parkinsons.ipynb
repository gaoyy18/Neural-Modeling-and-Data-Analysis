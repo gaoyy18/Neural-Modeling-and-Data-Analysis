{
 "cells": [
  {
   "cell_type": "markdown",
   "id": "5d14591a",
   "metadata": {},
   "source": [
    "## Logistic Regression & SVM"
   ]
  },
  {
   "cell_type": "code",
   "execution_count": 2,
   "id": "2db86906",
   "metadata": {},
   "outputs": [],
   "source": [
    "%matplotlib inline\n",
    "import matplotlib.pyplot as plt\n",
    "import numpy as np"
   ]
  },
  {
   "cell_type": "code",
   "execution_count": 3,
   "id": "015bc35c",
   "metadata": {},
   "outputs": [
    {
     "name": "stdout",
     "output_type": "stream",
     "text": [
      "(136, 22)\n"
     ]
    }
   ],
   "source": [
    "# prepare data and gt, also the training set and testing set\n",
    "from sklearn.preprocessing import StandardScaler\n",
    "\n",
    "raw_data = np.loadtxt(open(\"parkinsons.data\",\"r\"), delimiter=\",\", skiprows=1, usecols=range(1, 24))\n",
    "#print(data)\n",
    "\n",
    "gt = raw_data[:, -7]\n",
    "#print(gt)\n",
    "\n",
    "data=np.delete(raw_data, -7, axis=1)\n",
    "\n",
    "from sklearn.model_selection import train_test_split\n",
    "\n",
    "X_train, X_test, y_train, y_test = train_test_split(data, gt, test_size=0.3)\n",
    "print(X_train.shape)\n",
    "\n",
    "\n",
    "# normalization\n",
    "scaler = StandardScaler()\n",
    "X_train = scaler.fit_transform(X_train)\n",
    "X_test = scaler.transform(X_test)\n",
    "\n"
   ]
  },
  {
   "cell_type": "code",
   "execution_count": 26,
   "id": "b54e0630",
   "metadata": {},
   "outputs": [
    {
     "name": "stdout",
     "output_type": "stream",
     "text": [
      "-----Logistic Regression-----\n",
      "train_score: 0.868\n",
      "test_score: 0.847\n"
     ]
    }
   ],
   "source": [
    "# logistic regression\n",
    "from sklearn.linear_model import LogisticRegression\n",
    "\n",
    "model = LogisticRegression(penalty='l1', solver='liblinear')\n",
    "model.fit(X_train, y_train)\n",
    "\n",
    "train_score = model.score(X_train, y_train)\n",
    "test_score = model.score(X_test, y_test)\n",
    "print('-----Logistic Regression-----\\ntrain_score: %.3f\\ntest_score: %.3f'%(train_score, test_score))"
   ]
  },
  {
   "cell_type": "code",
   "execution_count": 27,
   "id": "945c43ee",
   "metadata": {},
   "outputs": [
    {
     "name": "stdout",
     "output_type": "stream",
     "text": [
      "-----Linear SVM-----\n",
      "train_score: 0.890\n",
      "test_score: 0.864\n"
     ]
    }
   ],
   "source": [
    "# SVM\n",
    "from sklearn import svm\n",
    "clf = svm.SVC(C=1.0, kernel='linear')\n",
    "clf.fit(X_train, y_train)\n",
    "train_score = clf.score(X_train, y_train)\n",
    "test_score = clf.score(X_test, y_test)\n",
    "print('-----Linear SVM-----\\ntrain_score: %.3f\\ntest_score: %.3f'%(train_score, test_score))"
   ]
  },
  {
   "cell_type": "markdown",
   "id": "7587d5ed",
   "metadata": {},
   "source": [
    "注意：\n",
    "1.在用sklearn里面的logistic regression时，参数penalty：正则化项的选择。正则化主要有两种：L1和L2，LogisticRegression默认选择L2正则化。‘liblinear’ 支持L1和L2，但‘newton-cg’, ‘sag’ 和‘lbfgs’ 只支持L2正则化。由于要求使用L1正则化，且使用的是小型数据集，用‘liblinear’ ，就可以。\n",
    "2.线性SVM依赖数据表达的距离测度，所以需要对数据先做normalization。\n",
    "总结：\n",
    "从测试集来看，logistic regression的精度（0.847）要略小于Linear SVM（0.864）；\n",
    "理论上，两者的区别在于，Logistic Regression处理所有数据，使用了sigmoid变换；SVM只考虑边界线附近的点，即支持向量。"
   ]
  },
  {
   "cell_type": "markdown",
   "id": "538746f3",
   "metadata": {},
   "source": [
    "## Contribution of each dimansion"
   ]
  },
  {
   "cell_type": "code",
   "execution_count": 55,
   "id": "79c04cd6",
   "metadata": {},
   "outputs": [
    {
     "name": "stdout",
     "output_type": "stream",
     "text": [
      "-----Linear SVM(dimansion 0)-----\n",
      "test_score: 0.746\n",
      "-----Linear SVM(dimansion 1)-----\n",
      "test_score: 0.814\n",
      "-----Linear SVM(dimansion 2)-----\n",
      "test_score: 0.729\n",
      "-----Linear SVM(dimansion 3)-----\n",
      "test_score: 0.814\n",
      "-----Linear SVM(dimansion 4)-----\n",
      "test_score: 0.831\n",
      "-----Linear SVM(dimansion 5)-----\n",
      "test_score: 0.814\n",
      "-----Linear SVM(dimansion 6)-----\n",
      "test_score: 0.814\n",
      "-----Linear SVM(dimansion 7)-----\n",
      "test_score: 0.814\n",
      "-----Linear SVM(dimansion 8)-----\n",
      "test_score: 0.814\n",
      "-----Linear SVM(dimansion 9)-----\n",
      "test_score: 0.814\n",
      "-----Linear SVM(dimansion 10)-----\n",
      "test_score: 0.814\n",
      "-----Linear SVM(dimansion 11)-----\n",
      "test_score: 0.814\n",
      "-----Linear SVM(dimansion 12)-----\n",
      "test_score: 0.678\n",
      "-----Linear SVM(dimansion 13)-----\n",
      "test_score: 0.814\n",
      "-----Linear SVM(dimansion 14)-----\n",
      "test_score: 0.814\n",
      "-----Linear SVM(dimansion 15)-----\n",
      "test_score: 0.814\n",
      "-----Linear SVM(dimansion 16)-----\n",
      "test_score: 0.814\n",
      "-----Linear SVM(dimansion 17)-----\n",
      "test_score: 0.814\n",
      "-----Linear SVM(dimansion 18)-----\n",
      "test_score: 0.864\n",
      "-----Linear SVM(dimansion 19)-----\n",
      "test_score: 0.831\n",
      "-----Linear SVM(dimansion 20)-----\n",
      "test_score: 0.814\n",
      "-----Linear SVM(dimansion 21)-----\n",
      "test_score: 0.831\n"
     ]
    },
    {
     "data": {
      "text/plain": [
       "Text(0.5, 1.0, 'Test score for using each dimansion')"
      ]
     },
     "execution_count": 55,
     "metadata": {},
     "output_type": "execute_result"
    },
    {
     "data": {
      "image/png": "[encoded data removed]",
      "text/plain": [
       "<Figure size 720x720 with 1 Axes>"
      ]
     },
     "metadata": {
      "needs_background": "light"
     },
     "output_type": "display_data"
    }
   ],
   "source": [
    "# only take one dimansion for training and testing for each time\n",
    "test_score_eachdim=[]\n",
    "dim = []\n",
    "for i in range(0, data.shape[1]):\n",
    "    X_train_local = X_train[:, i]\n",
    "    tempsize = X_train_local.shape[0]\n",
    "    X_train_local = X_train_local.reshape((tempsize, 1))\n",
    "    \n",
    "    X_test_local = X_test[:, i]\n",
    "    tempsize = X_test_local.shape[0]\n",
    "    X_test_local = X_test_local.reshape((tempsize, 1))\n",
    "    \n",
    "    \n",
    "    clf = svm.SVC(C=1.0, kernel='linear')\n",
    "    clf.fit(X_train_local, y_train)\n",
    "    test_score = clf.score(X_test_local, y_test)\n",
    "    test_score_eachdim = np.append(test_score_eachdim, test_score)\n",
    "    dim = np.append(dim, i)\n",
    "    print('-----Linear SVM(dimansion %d)-----\\ntest_score: %.3f'%(i, test_score))\n",
    "\n",
    "plt.figure(figsize=(10, 10))\n",
    "plt.bar(dim, test_score_eachdim)\n",
    "plt.xlabel('Dimansion number(from 0)')\n",
    "plt.ylabel('Test score')\n",
    "plt.title('Test score for using each dimansion')\n"
   ]
  },
  {
   "cell_type": "markdown",
   "id": "eec15f37",
   "metadata": {},
   "source": [
    "总结：\n",
    "每个输入有22维，每次只取其中的一维数据进行测试与训练，可以发现只使用第17维数据（Dimansion number=16）时，得到的test score最高，为0.864，这正好与使用所有维度的数据得到的test score相同，这样比较发现比较发现第17个维度对分类的贡献最大；\n",
    "也可以使用每次删除一维数据进行测试与训练的方法，但是考虑到数据集的输入维度太高了，就没有这么做；\n",
    "可能是因为数据集比较小，取各个维度训练后的测试结果没有太明显的差异。\n",
    "启示是可以删去数据的某些特征不明显的维度，以换取更小的计算量；这与后面讲的降维思想有相似之处。"
   ]
  },
  {
   "cell_type": "markdown",
   "id": "447ef421",
   "metadata": {},
   "source": [
    "## Gaussian Kernel"
   ]
  },
  {
   "cell_type": "code",
   "execution_count": 83,
   "id": "1805ad72",
   "metadata": {},
   "outputs": [
    {
     "name": "stdout",
     "output_type": "stream",
     "text": [
      "best param: {'C': 7.346965306122448, 'gamma': 0.19393877551020408}\n",
      "best score: 0.956\n"
     ]
    }
   ],
   "source": [
    "# gridsearch\n",
    "from sklearn.model_selection import GridSearchCV\n",
    "from sklearn.svm import SVC\n",
    "\n",
    "L = 50\n",
    "gammas = np.linspace(0.0001, 0.5, L)\n",
    "Cs = np.linspace(0.0001, 10, L)\n",
    "param_grid = {'gamma': gammas, 'C':Cs}\n",
    "\n",
    "clf = GridSearchCV(SVC(kernel='rbf'), param_grid, cv=5, return_train_score=True)\n",
    "clf.fit(X_train,y_train)\n",
    "print(\"best param: {0}\".format(clf.best_params_))\n",
    "print(\"best score: %.3f\"%(clf.best_score_))"
   ]
  },
  {
   "cell_type": "code",
   "execution_count": 97,
   "id": "f5c7cdee",
   "metadata": {},
   "outputs": [
    {
     "data": {
      "text/plain": [
       "<matplotlib.collections.PathCollection at 0x26dfb644d30>"
      ]
     },
     "execution_count": 97,
     "metadata": {},
     "output_type": "execute_result"
    },
    {
     "data": {
      "image/png": "[encoded data removed]",
      "text/plain": [
       "<Figure size 1080x720 with 2 Axes>"
      ]
     },
     "metadata": {
      "needs_background": "light"
     },
     "output_type": "display_data"
    }
   ],
   "source": [
    "# plot\n",
    "score = clf.cv_results_['mean_test_score']\n",
    "score = np.reshape(score, [L, L]).T\n",
    "\n",
    "\n",
    "plt.figure(figsize=(15, 10))\n",
    "plt.contourf(Cs, gammas, score)\n",
    "plt.colorbar()\n",
    "plt.xlabel('C')\n",
    "plt.ylabel('gamma')\n",
    "plt.title('Test score for different gamma and C')\n",
    "\n",
    "# point out the best parameter\n",
    "plt.scatter(clf.best_params_['C'], clf.best_params_['gamma'], s=100, marker='x', c='black')"
   ]
  },
  {
   "cell_type": "markdown",
   "id": "43cf2254",
   "metadata": {},
   "source": [
    "总结：\n",
    "高斯核函数可以映射到无穷维，从结果可以看出，当高斯核函数的参数选择比较好时，test score达到了0.956，比不使用核函数时的test score（0.864）高出了十多个百分点，体现出了高斯核函数的强大；\n",
    "但是，在寻找最优的gamma和C时，grid search方法需要一些手动尝试搜索范围，以及有一笔计算时间开销，这还是在parkinsons这个数据集很小的情况之下，可以预想到对大的数据集处理的时候，这种遍历搜索计算比较的方法可能会不再适用；可能需要有对参数的学习的算法；此外，已有的经验可能也比较重要。"
   ]
  }
 ],
 "metadata": {
  "interpreter": {
   "hash": "b84ea11bc645c8bdf5e1b58daeeb2026886c6a912d84d2c67de0aa1a45a2e5dc"
  },
  "kernelspec": {
   "display_name": "Python 3.8.11 64-bit ('NMDA': conda)",
   "name": "python3"
  },
  "language_info": {
   "codemirror_mode": {
    "name": "ipython",
    "version": 3
   },
   "file_extension": ".py",
   "mimetype": "text/x-python",
   "name": "python",
   "nbconvert_exporter": "python",
   "pygments_lexer": "ipython3",
   "version": "3.8.11"
  }
 },
 "nbformat": 4,
 "nbformat_minor": 5
}
